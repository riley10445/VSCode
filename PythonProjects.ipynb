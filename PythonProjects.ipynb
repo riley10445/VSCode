{
 "cells": [
  {
   "cell_type": "code",
   "execution_count": 1,
   "metadata": {
    "tags": []
   },
   "outputs": [
    {
     "name": "stdout",
     "output_type": "stream",
     "text": [
      "Not leap year.\n"
     ]
    }
   ],
   "source": [
    "#Leap year calculator\n",
    "year = int(input(\"Which year do you want to check? \"))\n",
    "\n",
    "if (year % 400) == 0:\n",
    "    print(\"Leap year.\")\n",
    "elif (year % 100) == 0:\n",
    "    print(\"Not a leap year.\")\n",
    "elif (year % 4) == 0:\n",
    "    print(\"Leap year.\")\n",
    "else:\n",
    "    print(\"Not a leap year.\")\n"
   ]
  },
  {
   "cell_type": "code",
   "execution_count": 1,
   "metadata": {},
   "outputs": [
    {
     "name": "stdout",
     "output_type": "stream",
     "text": [
      "2550\n"
     ]
    }
   ],
   "source": [
    "#add even numbers from 1-100\n",
    "total = 0\n",
    "for number in range(1, 101):\n",
    "    if number % 2 == 0:\n",
    "        total += number\n",
    "print(total)"
   ]
  }
 ],
 "metadata": {
  "kernelspec": {
   "display_name": "Python 3",
   "language": "python",
   "name": "python3"
  },
  "language_info": {
   "codemirror_mode": {
    "name": "ipython",
    "version": 3
   },
   "file_extension": ".py",
   "mimetype": "text/x-python",
   "name": "python",
   "nbconvert_exporter": "python",
   "pygments_lexer": "ipython3",
   "version": "3.11.1 (v3.11.1:a7a450f84a, Dec  6 2022, 15:24:06) [Clang 13.0.0 (clang-1300.0.29.30)]"
  },
  "orig_nbformat": 4,
  "vscode": {
   "interpreter": {
    "hash": "aee8b7b246df8f9039afb4144a1f6fd8d2ca17a180786b69acc140d282b71a49"
   }
  }
 },
 "nbformat": 4,
 "nbformat_minor": 2
}
